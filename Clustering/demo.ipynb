{
 "cells": [
  {
   "cell_type": "code",
   "execution_count": 1,
   "metadata": {},
   "outputs": [],
   "source": [
    "from sklearn.datasets import make_blobs\n",
    "import matplotlib.pyplot as plt\n",
    "%matplotlib inline\n",
    "from clustering_kmeans import ScratchKMeans"
   ]
  },
  {
   "cell_type": "code",
   "execution_count": 2,
   "metadata": {},
   "outputs": [
    {
     "name": "stdout",
     "output_type": "stream",
     "text": [
      "(100, 2)\n"
     ]
    }
   ],
   "source": [
    "# デモ用のデータを取得\n",
    "X, _ = make_blobs(n_samples=100, n_features=2, centers=4, cluster_std=0.5, shuffle=True, random_state=0)\n",
    "print(X.shape)"
   ]
  },
  {
   "cell_type": "code",
   "execution_count": 3,
   "metadata": {},
   "outputs": [
    {
     "name": "stdout",
     "output_type": "stream",
     "text": [
      "\n",
      "n_init:0\n",
      "iter:0, SSE:455.150460365017\n",
      "iter:1, SSE:95.835783552141\n",
      "iter:2, SSE:45.394544316691295\n",
      "iter:3, SSE:45.24941923485417\n",
      "\n",
      "n_init:1\n",
      "iter:0, SSE:257.42115353683215\n",
      "iter:1, SSE:46.36658325623578\n",
      "iter:2, SSE:43.72200071248178\n",
      "\n",
      "n_init:2\n",
      "iter:0, SSE:605.6269400238353\n",
      "iter:1, SSE:147.7534237343864\n",
      "iter:2, SSE:47.045875458308906\n",
      "\n",
      "n_init:3\n",
      "iter:0, SSE:472.72589770333826\n",
      "iter:1, SSE:128.80171014952433\n",
      "iter:2, SSE:44.216889465756054\n",
      "\n",
      "n_init:4\n",
      "iter:0, SSE:155.91060568132008\n",
      "iter:1, SSE:60.96347000467965\n",
      "iter:2, SSE:45.016250033285026\n",
      "iter:3, SSE:44.43307628974503\n",
      "iter:4, SSE:43.997351565265376\n",
      "\n",
      "best_SSE:43.72200071248178\n",
      "\n"
     ]
    }
   ],
   "source": [
    "n_clusters = 5\n",
    "clf = ScratchKMeans(n_clusters=n_clusters, n_init=5, max_iter=100, tol=1e-5, verbose=True)\n",
    "clf.fit(X)\n",
    "y_pred = clf.predict(X)"
   ]
  },
  {
   "cell_type": "code",
   "execution_count": 4,
   "metadata": {},
   "outputs": [
    {
     "data": {
      "image/png": "[encoded data removed]",
      "text/plain": [
       "<Figure size 432x288 with 1 Axes>"
      ]
     },
     "metadata": {
      "needs_background": "light"
     },
     "output_type": "display_data"
    }
   ],
   "source": [
    "plt.title(\"K-means Clustering\")\n",
    "plt.xlabel(\"X0\")\n",
    "plt.ylabel(\"X1\")\n",
    "for n in range(n_clusters):\n",
    "    plt.scatter(X[y_pred==n, 0], X[y_pred==n, 1], label=n)\n",
    "plt.legend()\n",
    "plt.show()"
   ]
  }
 ],
 "metadata": {
  "kernelspec": {
   "display_name": "Python 3",
   "language": "python",
   "name": "python3"
  },
  "language_info": {
   "codemirror_mode": {
    "name": "ipython",
    "version": 3
   },
   "file_extension": ".py",
   "mimetype": "text/x-python",
   "name": "python",
   "nbconvert_exporter": "python",
   "pygments_lexer": "ipython3",
   "version": "3.7.3"
  }
 },
 "nbformat": 4,
 "nbformat_minor": 2
}
